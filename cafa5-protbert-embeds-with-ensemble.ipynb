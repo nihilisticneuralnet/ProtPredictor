{
 "cells": [
  {
   "cell_type": "code",
   "execution_count": 1,
   "id": "1c9ef63f",
   "metadata": {
    "execution": {
     "iopub.execute_input": "2023-08-21T14:25:37.321424Z",
     "iopub.status.busy": "2023-08-21T14:25:37.320983Z",
     "iopub.status.idle": "2023-08-21T14:25:37.809762Z",
     "shell.execute_reply": "2023-08-21T14:25:37.807582Z"
    },
    "papermill": {
     "duration": 0.50095,
     "end_time": "2023-08-21T14:25:37.812261",
     "exception": false,
     "start_time": "2023-08-21T14:25:37.311311",
     "status": "completed"
    },
    "tags": []
   },
   "outputs": [
    {
     "data": {
      "text/html": [
       "<div>\n",
       "<style scoped>\n",
       "    .dataframe tbody tr th:only-of-type {\n",
       "        vertical-align: middle;\n",
       "    }\n",
       "\n",
       "    .dataframe tbody tr th {\n",
       "        vertical-align: top;\n",
       "    }\n",
       "\n",
       "    .dataframe thead th {\n",
       "        text-align: right;\n",
       "    }\n",
       "</style>\n",
       "<table border=\"1\" class=\"dataframe\">\n",
       "  <thead>\n",
       "    <tr style=\"text-align: right;\">\n",
       "      <th></th>\n",
       "      <th>The Protein ID</th>\n",
       "      <th>The Gene Ontology term (GO) ID</th>\n",
       "      <th>Predicted link probability that GO appear in Protein</th>\n",
       "    </tr>\n",
       "  </thead>\n",
       "  <tbody>\n",
       "    <tr>\n",
       "      <th>0</th>\n",
       "      <td>A0A0A0MRZ7</td>\n",
       "      <td>GO:0000001</td>\n",
       "      <td>0.123</td>\n",
       "    </tr>\n",
       "    <tr>\n",
       "      <th>1</th>\n",
       "      <td>A0A0A0MRZ7</td>\n",
       "      <td>GO:0000002</td>\n",
       "      <td>0.123</td>\n",
       "    </tr>\n",
       "    <tr>\n",
       "      <th>2</th>\n",
       "      <td>A0A0A0MRZ8</td>\n",
       "      <td>GO:0000001</td>\n",
       "      <td>0.123</td>\n",
       "    </tr>\n",
       "    <tr>\n",
       "      <th>3</th>\n",
       "      <td>A0A0A0MRZ8</td>\n",
       "      <td>GO:0000002</td>\n",
       "      <td>0.123</td>\n",
       "    </tr>\n",
       "    <tr>\n",
       "      <th>4</th>\n",
       "      <td>A0A0A0MRZ9</td>\n",
       "      <td>GO:0000001</td>\n",
       "      <td>0.123</td>\n",
       "    </tr>\n",
       "  </tbody>\n",
       "</table>\n",
       "</div>"
      ],
      "text/plain": [
       "  The Protein ID The Gene Ontology term (GO) ID  \\\n",
       "0     A0A0A0MRZ7                     GO:0000001   \n",
       "1     A0A0A0MRZ7                     GO:0000002   \n",
       "2     A0A0A0MRZ8                     GO:0000001   \n",
       "3     A0A0A0MRZ8                     GO:0000002   \n",
       "4     A0A0A0MRZ9                     GO:0000001   \n",
       "\n",
       "   Predicted link probability that GO appear in Protein  \n",
       "0                                              0.123     \n",
       "1                                              0.123     \n",
       "2                                              0.123     \n",
       "3                                              0.123     \n",
       "4                                              0.123     "
      ]
     },
     "execution_count": 1,
     "metadata": {},
     "output_type": "execute_result"
    }
   ],
   "source": [
    "import pandas as pd\n",
    "sub = pd.read_csv(\"/kaggle/input/cafa-5-protein-function-prediction/sample_submission.tsv\", sep= \"\\t\", header = None)\n",
    "sub.columns = [\"The Protein ID\", \"The Gene Ontology term (GO) ID\", \"Predicted link probability that GO appear in Protein\"]\n",
    "sub.head(5)"
   ]
  },
  {
   "cell_type": "code",
   "execution_count": 2,
   "id": "7e8e5218",
   "metadata": {
    "_cell_guid": "b1076dfc-b9ad-4769-8c92-a6c4dae69d19",
    "_uuid": "8f2839f25d086af736a60e9eeb907d3b93b6e0e5",
    "execution": {
     "iopub.execute_input": "2023-08-21T14:25:37.825943Z",
     "iopub.status.busy": "2023-08-21T14:25:37.825555Z",
     "iopub.status.idle": "2023-08-21T14:25:55.633014Z",
     "shell.execute_reply": "2023-08-21T14:25:55.631551Z"
    },
    "papermill": {
     "duration": 17.817055,
     "end_time": "2023-08-21T14:25:55.635569",
     "exception": false,
     "start_time": "2023-08-21T14:25:37.818514",
     "status": "completed"
    },
    "tags": []
   },
   "outputs": [
    {
     "name": "stderr",
     "output_type": "stream",
     "text": [
      "/opt/conda/lib/python3.10/site-packages/scipy/__init__.py:146: UserWarning: A NumPy version >=1.16.5 and <1.23.0 is required for this version of SciPy (detected version 1.23.5\n",
      "  warnings.warn(f\"A NumPy version >={np_minversion} and <{np_maxversion}\"\n",
      "/opt/conda/lib/python3.10/site-packages/tensorflow_io/python/ops/__init__.py:98: UserWarning: unable to load libtensorflow_io_plugins.so: unable to open file: libtensorflow_io_plugins.so, from paths: ['/opt/conda/lib/python3.10/site-packages/tensorflow_io/python/ops/libtensorflow_io_plugins.so']\n",
      "caused by: ['/opt/conda/lib/python3.10/site-packages/tensorflow_io/python/ops/libtensorflow_io_plugins.so: undefined symbol: _ZN3tsl6StatusC1EN10tensorflow5error4CodeESt17basic_string_viewIcSt11char_traitsIcEENS_14SourceLocationE']\n",
      "  warnings.warn(f\"unable to load libtensorflow_io_plugins.so: {e}\")\n",
      "/opt/conda/lib/python3.10/site-packages/tensorflow_io/python/ops/__init__.py:104: UserWarning: file system plugins are not loaded: unable to open file: libtensorflow_io.so, from paths: ['/opt/conda/lib/python3.10/site-packages/tensorflow_io/python/ops/libtensorflow_io.so']\n",
      "caused by: ['/opt/conda/lib/python3.10/site-packages/tensorflow_io/python/ops/libtensorflow_io.so: undefined symbol: _ZTVN10tensorflow13GcsFileSystemE']\n",
      "  warnings.warn(f\"file system plugins are not loaded: {e}\")\n"
     ]
    },
    {
     "name": "stdout",
     "output_type": "stream",
     "text": [
      "/kaggle/input/cafa-5-ems-2-embeddings-numpy/train_ids.npy\n",
      "/kaggle/input/cafa-5-ems-2-embeddings-numpy/train_embeddings.npy\n",
      "/kaggle/input/cafa-5-ems-2-embeddings-numpy/test_ids.npy\n",
      "/kaggle/input/cafa-5-ems-2-embeddings-numpy/test_embeddings.npy\n",
      "/kaggle/input/train-targets-top500/train_targets_top500.npy\n",
      "/kaggle/input/23468234/train_ids_esm2_t33_650M_UR50D.npy\n",
      "/kaggle/input/23468234/test_ids_esm2_t33_650M_UR50D.npy\n",
      "/kaggle/input/23468234/test_embeds_esm2_t33_650M_UR50D.npy\n",
      "/kaggle/input/23468234/train_embeds_esm2_t33_650M_UR50D.npy\n",
      "/kaggle/input/cafa2008/submission.tsv\n",
      "/kaggle/input/cafa-5-protein-function-prediction/sample_submission.tsv\n",
      "/kaggle/input/cafa-5-protein-function-prediction/IA.txt\n",
      "/kaggle/input/cafa-5-protein-function-prediction/Test (Targets)/testsuperset.fasta\n",
      "/kaggle/input/cafa-5-protein-function-prediction/Test (Targets)/testsuperset-taxon-list.tsv\n",
      "/kaggle/input/cafa-5-protein-function-prediction/Train/train_terms.tsv\n",
      "/kaggle/input/cafa-5-protein-function-prediction/Train/train_sequences.fasta\n",
      "/kaggle/input/cafa-5-protein-function-prediction/Train/train_taxonomy.tsv\n",
      "/kaggle/input/cafa-5-protein-function-prediction/Train/go-basic.obo\n",
      "/kaggle/input/cafa51208/submission.tsv\n",
      "/kaggle/input/blast-quick-sprof-zero-pred/submission.tsv\n",
      "/kaggle/input/protbert-embeddings-for-cafa5/train_ids.npy\n",
      "/kaggle/input/protbert-embeddings-for-cafa5/train_embeddings.npy\n",
      "/kaggle/input/protbert-embeddings-for-cafa5/test_ids.npy\n",
      "/kaggle/input/protbert-embeddings-for-cafa5/test_embeddings.npy\n"
     ]
    }
   ],
   "source": [
    "MAIN_DIR = \"/kaggle/input/cafa-5-protein-function-prediction\"\n",
    "\n",
    "# UTILITARIES\n",
    "import numpy as np\n",
    "from tqdm import tqdm\n",
    "import time\n",
    "import matplotlib.pyplot as plt\n",
    "plt.style.use('ggplot')\n",
    "\n",
    "# TORCH MODULES FOR METRICS COMPUTATION :\n",
    "import torch\n",
    "from torch.utils.data import Dataset\n",
    "from torch import nn\n",
    "from torch.utils.data import random_split\n",
    "from torch.optim.lr_scheduler import ReduceLROnPlateau\n",
    "from torchmetrics.classification import MultilabelF1Score\n",
    "from torchmetrics.classification import MultilabelAccuracy\n",
    "\n",
    "import pytorch_lightning as pl\n",
    "from pytorch_lightning import Trainer\n",
    "from pytorch_lightning.loggers import WandbLogger\n",
    "\n",
    "# WANDB FOR LIGHTNING :\n",
    "import wandb\n",
    "\n",
    "# FILES VISUALIZATION\n",
    "import os\n",
    "for dirname, _, filenames in os.walk('/kaggle/input'):\n",
    "    for filename in filenames:\n",
    "        print(os.path.join(dirname, filename))"
   ]
  },
  {
   "cell_type": "code",
   "execution_count": 3,
   "id": "d675946a",
   "metadata": {
    "execution": {
     "iopub.execute_input": "2023-08-21T14:25:55.648877Z",
     "iopub.status.busy": "2023-08-21T14:25:55.648532Z",
     "iopub.status.idle": "2023-08-21T14:25:55.654046Z",
     "shell.execute_reply": "2023-08-21T14:25:55.652784Z"
    },
    "papermill": {
     "duration": 0.014905,
     "end_time": "2023-08-21T14:25:55.656442",
     "exception": false,
     "start_time": "2023-08-21T14:25:55.641537",
     "status": "completed"
    },
    "tags": []
   },
   "outputs": [],
   "source": [
    "class config:\n",
    "    train_sequences_path = MAIN_DIR  + \"/Train/train_sequences.fasta\"\n",
    "    train_labels_path = MAIN_DIR + \"/Train/train_terms.tsv\"\n",
    "    test_sequences_path = MAIN_DIR + \"/Test (Targets)/testsuperset.fasta\"\n",
    "    \n",
    "    num_labels = 500\n",
    "    n_epochs = 10\n",
    "    batch_size = 128\n",
    "    lr = 0.01\n",
    "    \n",
    "    device = torch.device('cuda' if torch.cuda.is_available() else 'cpu')"
   ]
  },
  {
   "cell_type": "code",
   "execution_count": 4,
   "id": "fab33101",
   "metadata": {
    "execution": {
     "iopub.execute_input": "2023-08-21T14:25:55.669867Z",
     "iopub.status.busy": "2023-08-21T14:25:55.669481Z",
     "iopub.status.idle": "2023-08-21T14:25:55.674743Z",
     "shell.execute_reply": "2023-08-21T14:25:55.673195Z"
    },
    "papermill": {
     "duration": 0.014404,
     "end_time": "2023-08-21T14:25:55.676809",
     "exception": false,
     "start_time": "2023-08-21T14:25:55.662405",
     "status": "completed"
    },
    "tags": []
   },
   "outputs": [
    {
     "name": "stdout",
     "output_type": "stream",
     "text": [
      "cpu\n"
     ]
    }
   ],
   "source": [
    "print(config.device)"
   ]
  },
  {
   "cell_type": "code",
   "execution_count": 5,
   "id": "901cb557",
   "metadata": {
    "execution": {
     "iopub.execute_input": "2023-08-21T14:25:55.690379Z",
     "iopub.status.busy": "2023-08-21T14:25:55.690028Z",
     "iopub.status.idle": "2023-08-21T14:25:55.695315Z",
     "shell.execute_reply": "2023-08-21T14:25:55.694065Z"
    },
    "papermill": {
     "duration": 0.014743,
     "end_time": "2023-08-21T14:25:55.697774",
     "exception": false,
     "start_time": "2023-08-21T14:25:55.683031",
     "status": "completed"
    },
    "tags": []
   },
   "outputs": [],
   "source": [
    "# Directories for the different embedding vectors : \n",
    "embeds_map = {\n",
    "    \"T5\" : \"t5embeds\",\n",
    "    \"ProtBERT\" : \"protbert-embeddings-for-cafa5\",\n",
    "    \"EMS2\" : \"cafa-5-ems-2-embeddings-numpy\"\n",
    "#     \"EMS2\" : \"23468234\"\n",
    "}\n",
    "\n",
    "# Length of the different embedding vectors :\n",
    "embeds_dim = {\n",
    "    \"T5\" : 1024,\n",
    "    \"ProtBERT\" : 1024,\n",
    "    \"EMS2\" : 1280\n",
    "}"
   ]
  },
  {
   "cell_type": "code",
   "execution_count": 6,
   "id": "be22cbd5",
   "metadata": {
    "execution": {
     "iopub.execute_input": "2023-08-21T14:25:55.711852Z",
     "iopub.status.busy": "2023-08-21T14:25:55.711441Z",
     "iopub.status.idle": "2023-08-21T14:25:55.722592Z",
     "shell.execute_reply": "2023-08-21T14:25:55.721599Z"
    },
    "papermill": {
     "duration": 0.020977,
     "end_time": "2023-08-21T14:25:55.724982",
     "exception": false,
     "start_time": "2023-08-21T14:25:55.704005",
     "status": "completed"
    },
    "tags": []
   },
   "outputs": [],
   "source": [
    "class ProteinSequenceDataset(Dataset):\n",
    "    \n",
    "    def __init__(self, datatype, embeddings_source):\n",
    "        super(ProteinSequenceDataset).__init__()\n",
    "        self.datatype = datatype\n",
    "        \n",
    "        if embeddings_source in [\"ProtBERT\", \"EMS2\"]:\n",
    "            embeds = np.load(\"/kaggle/input/\"+embeds_map[embeddings_source]+\"/\"+datatype+\"_embeddings.npy\")\n",
    "            ids = np.load(\"/kaggle/input/\"+embeds_map[embeddings_source]+\"/\"+datatype+\"_ids.npy\")\n",
    "        \n",
    "        if embeddings_source == \"T5\":\n",
    "            embeds = np.load(\"/kaggle/input/\"+embeds_map[embeddings_source]+\"/\"+datatype+\"_embeds.npy\")\n",
    "            ids = np.load(\"/kaggle/input/\"+embeds_map[embeddings_source]+\"/\"+datatype+\"_ids.npy\")\n",
    "            \n",
    "        embeds_list = []\n",
    "        for l in range(embeds.shape[0]):\n",
    "            embeds_list.append(embeds[l,:])\n",
    "        self.df = pd.DataFrame(data={\"EntryID\": ids, \"embed\" : embeds_list})\n",
    "        \n",
    "        if datatype==\"train\":\n",
    "            np_labels = np.load(\n",
    "                \"/kaggle/input/train-targets-top\"+str(config.num_labels)+ \\\n",
    "                \"/train_targets_top\"+str(config.num_labels)+\".npy\")\n",
    "            df_labels = pd.DataFrame(self.df['EntryID'])\n",
    "            df_labels['labels_vect']=[row for row in np_labels]\n",
    "            self.df = self.df.merge(df_labels, on=\"EntryID\")\n",
    "            \n",
    "    def __len__(self):\n",
    "        return len(self.df)\n",
    "    \n",
    "    def __getitem__(self, index):\n",
    "        embed = torch.tensor(self.df.iloc[index][\"embed\"] , dtype = torch.float32)\n",
    "        if self.datatype==\"train\":\n",
    "            targets = torch.tensor(self.df.iloc[index][\"labels_vect\"], dtype = torch.float32)\n",
    "            return embed, targets\n",
    "        if self.datatype==\"test\":\n",
    "            id = self.df.iloc[index][\"EntryID\"]\n",
    "            return embed, id\n",
    "        "
   ]
  },
  {
   "cell_type": "markdown",
   "id": "e480d2c3",
   "metadata": {
    "papermill": {
     "duration": 0.005484,
     "end_time": "2023-08-21T14:25:55.736975",
     "exception": false,
     "start_time": "2023-08-21T14:25:55.731491",
     "status": "completed"
    },
    "tags": []
   },
   "source": [
    "## MODEL ARCHITECTURE BUILDING AND TRAINING"
   ]
  },
  {
   "cell_type": "code",
   "execution_count": 7,
   "id": "6fbd50cf",
   "metadata": {
    "execution": {
     "iopub.execute_input": "2023-08-21T14:25:55.750375Z",
     "iopub.status.busy": "2023-08-21T14:25:55.749723Z",
     "iopub.status.idle": "2023-08-21T14:25:55.756057Z",
     "shell.execute_reply": "2023-08-21T14:25:55.755179Z"
    },
    "papermill": {
     "duration": 0.015366,
     "end_time": "2023-08-21T14:25:55.758081",
     "exception": false,
     "start_time": "2023-08-21T14:25:55.742715",
     "status": "completed"
    },
    "tags": []
   },
   "outputs": [],
   "source": [
    "class MultiLayerPerceptron(torch.nn.Module):\n",
    "\n",
    "    def __init__(self, input_dim, num_classes):\n",
    "        super(MultiLayerPerceptron, self).__init__()\n",
    "\n",
    "        self.linear1 = torch.nn.Linear(input_dim, 864)\n",
    "        self.activation1 = torch.nn.ReLU() \n",
    "        self.linear2 = torch.nn.Linear(864, 712)\n",
    "        self.activation2 = torch.nn.ReLU()\n",
    "        self.linear3 = torch.nn.Linear(712, num_classes)\n",
    "      \n",
    "\n",
    "    def forward(self, x):\n",
    "        x = self.linear1(x)\n",
    "        x = self.activation1(x)\n",
    "        x = self.linear2(x)\n",
    "        x = self.activation2(x)\n",
    "        x = self.linear3(x)\n",
    "        return x"
   ]
  },
  {
   "cell_type": "code",
   "execution_count": 8,
   "id": "7287b2c0",
   "metadata": {
    "execution": {
     "iopub.execute_input": "2023-08-21T14:25:55.772286Z",
     "iopub.status.busy": "2023-08-21T14:25:55.771508Z",
     "iopub.status.idle": "2023-08-21T14:25:55.780144Z",
     "shell.execute_reply": "2023-08-21T14:25:55.778900Z"
    },
    "papermill": {
     "duration": 0.018192,
     "end_time": "2023-08-21T14:25:55.782538",
     "exception": false,
     "start_time": "2023-08-21T14:25:55.764346",
     "status": "completed"
    },
    "tags": []
   },
   "outputs": [],
   "source": [
    "class CNN1D(nn.Module):\n",
    "    def __init__(self, input_dim, num_classes):\n",
    "        super(CNN1D, self).__init__()\n",
    "        # (batch_size, channels, embed_size)\n",
    "        self.conv1 = nn.Conv1d(in_channels=1, out_channels=3, kernel_size=3, dilation=1, padding=1, stride=1)\n",
    "        # (batch_size, 3, embed_size)\n",
    "        self.pool1 = nn.MaxPool1d(kernel_size=2, stride=2)\n",
    "        # (batch_size, 3, embed_size/2 = 512)\n",
    "        self.conv2 = nn.Conv1d(in_channels=3, out_channels=8, kernel_size=3, dilation=1, padding=1, stride=1)\n",
    "        # (batch_size, 8, embed_size/2 = 512)\n",
    "        self.pool2 = nn.MaxPool1d(kernel_size=2, stride=2)\n",
    "        # (batch_size, 8, embed_size/4 = 256)\n",
    "        self.fc1 = nn.Linear(in_features=int(8 * input_dim/4), out_features=864)\n",
    "        self.fc2 = nn.Linear(in_features=864, out_features=num_classes)\n",
    "\n",
    "    def forward(self, x):\n",
    "        x = x.reshape(x.shape[0], 1, x.shape[1])\n",
    "        x = self.pool1(nn.functional.tanh(self.conv1(x)))\n",
    "        x = self.pool2(nn.functional.tanh(self.conv2(x)))\n",
    "        x = torch.flatten(x, 1)\n",
    "        x = nn.functional.tanh(self.fc1(x))\n",
    "        x = self.fc2(x)\n",
    "        return x\n"
   ]
  },
  {
   "cell_type": "code",
   "execution_count": 9,
   "id": "4e98cf2b",
   "metadata": {
    "execution": {
     "iopub.execute_input": "2023-08-21T14:25:55.796047Z",
     "iopub.status.busy": "2023-08-21T14:25:55.795722Z",
     "iopub.status.idle": "2023-08-21T14:25:55.809961Z",
     "shell.execute_reply": "2023-08-21T14:25:55.808612Z"
    },
    "papermill": {
     "duration": 0.023755,
     "end_time": "2023-08-21T14:25:55.812252",
     "exception": false,
     "start_time": "2023-08-21T14:25:55.788497",
     "status": "completed"
    },
    "tags": []
   },
   "outputs": [],
   "source": [
    "def train_model(embeddings_source, model_type=\"linear\", train_size=0.85):\n",
    "    \n",
    "    train_dataset = ProteinSequenceDataset(datatype=\"train\", embeddings_source = embeddings_source)\n",
    "    \n",
    "    train_set, val_set = random_split(train_dataset, lengths = [int(len(train_dataset)*train_size), len(train_dataset)-int(len(train_dataset)*train_size)])\n",
    "    train_dataloader = torch.utils.data.DataLoader(train_set, batch_size=config.batch_size, shuffle=True)\n",
    "    val_dataloader = torch.utils.data.DataLoader(val_set, batch_size=config.batch_size, shuffle=True)\n",
    "\n",
    "    if model_type == \"linear\":\n",
    "        model = MultiLayerPerceptron(input_dim=embeds_dim[embeddings_source], num_classes=config.num_labels).to(config.device)\n",
    "    if model_type == \"convolutional\":\n",
    "        model = CNN1D(input_dim=embeds_dim[embeddings_source], num_classes=config.num_labels).to(config.device)\n",
    "\n",
    "    optimizer = torch.optim.Adam(model.parameters(), lr = config.lr)\n",
    "    scheduler = ReduceLROnPlateau(optimizer, factor=0.1, patience=1)\n",
    "    CrossEntropy = torch.nn.CrossEntropyLoss()\n",
    "    f1_score = MultilabelF1Score(num_labels=config.num_labels).to(config.device)\n",
    "    n_epochs = config.n_epochs\n",
    "\n",
    "    print(\"BEGIN TRAINING...\")\n",
    "    train_loss_history=[]\n",
    "    val_loss_history=[]\n",
    "    \n",
    "    train_f1score_history=[]\n",
    "    val_f1score_history=[]\n",
    "    for epoch in range(n_epochs):\n",
    "        print(\"EPOCH \", epoch+1)\n",
    "        ## TRAIN PHASE :\n",
    "        losses = []\n",
    "        scores = []\n",
    "        for embed, targets in tqdm(train_dataloader):\n",
    "            embed, targets = embed.to(config.device), targets.to(config.device)\n",
    "            optimizer.zero_grad()\n",
    "            preds = model(embed)\n",
    "            loss= CrossEntropy(preds, targets)\n",
    "            score=f1_score(preds, targets)\n",
    "            losses.append(loss.item()) \n",
    "            scores.append(score.item())\n",
    "            loss.backward()\n",
    "            optimizer.step()\n",
    "        avg_loss = np.mean(losses)\n",
    "        avg_score = np.mean(scores)\n",
    "        print(\"Running Average TRAIN Loss : \", avg_loss)\n",
    "        print(\"Running Average TRAIN F1-Score : \", avg_score)\n",
    "        train_loss_history.append(avg_loss)\n",
    "        train_f1score_history.append(avg_score)\n",
    "        \n",
    "        ## VALIDATION PHASE : \n",
    "        losses = []\n",
    "        scores = []\n",
    "        for embed, targets in val_dataloader:\n",
    "            embed, targets = embed.to(config.device), targets.to(config.device)\n",
    "            preds = model(embed)\n",
    "            loss= CrossEntropy(preds, targets)\n",
    "            score=f1_score(preds, targets)\n",
    "            losses.append(loss.item())\n",
    "            scores.append(score.item())\n",
    "        avg_loss = np.mean(losses)\n",
    "        avg_score = np.mean(scores)\n",
    "        print(\"Running Average VAL Loss : \", avg_loss)\n",
    "        print(\"Running Average VAL F1-Score : \", avg_score)\n",
    "        val_loss_history.append(avg_loss)\n",
    "        val_f1score_history.append(avg_score)\n",
    "        \n",
    "        scheduler.step(avg_loss)\n",
    "        print(\"\\n\")\n",
    "        \n",
    "    print(\"TRAINING FINISHED\")\n",
    "    print(\"FINAL TRAINING SCORE : \", train_f1score_history[-1])\n",
    "    print(\"FINAL VALIDATION SCORE : \", val_f1score_history[-1])\n",
    "    \n",
    "    losses_history = {\"train\" : train_loss_history, \"val\" : val_loss_history}\n",
    "    scores_history = {\"train\" : train_f1score_history, \"val\" : val_f1score_history}\n",
    "    \n",
    "    return model, losses_history, scores_history"
   ]
  },
  {
   "cell_type": "code",
   "execution_count": 10,
   "id": "f1e24186",
   "metadata": {
    "execution": {
     "iopub.execute_input": "2023-08-21T14:25:55.826138Z",
     "iopub.status.busy": "2023-08-21T14:25:55.825783Z",
     "iopub.status.idle": "2023-08-21T14:25:55.830013Z",
     "shell.execute_reply": "2023-08-21T14:25:55.828938Z"
    },
    "papermill": {
     "duration": 0.01361,
     "end_time": "2023-08-21T14:25:55.832073",
     "exception": false,
     "start_time": "2023-08-21T14:25:55.818463",
     "status": "completed"
    },
    "tags": []
   },
   "outputs": [],
   "source": [
    "# ems2_model, ems2_losses, ems2_scores = train_model(embeddings_source=\"EMS2\",model_type=\"convolutional\")"
   ]
  },
  {
   "cell_type": "code",
   "execution_count": 11,
   "id": "14cb5f4e",
   "metadata": {
    "execution": {
     "iopub.execute_input": "2023-08-21T14:25:55.846196Z",
     "iopub.status.busy": "2023-08-21T14:25:55.845872Z",
     "iopub.status.idle": "2023-08-21T14:25:55.850538Z",
     "shell.execute_reply": "2023-08-21T14:25:55.849323Z"
    },
    "papermill": {
     "duration": 0.013473,
     "end_time": "2023-08-21T14:25:55.852251",
     "exception": false,
     "start_time": "2023-08-21T14:25:55.838778",
     "status": "completed"
    },
    "tags": []
   },
   "outputs": [],
   "source": [
    "# t5_model, t5_losses, t5_scores = train_model(embeddings_source=\"T5\",model_type=\"linear\")"
   ]
  },
  {
   "cell_type": "code",
   "execution_count": 12,
   "id": "56a37a9f",
   "metadata": {
    "execution": {
     "iopub.execute_input": "2023-08-21T14:25:55.865597Z",
     "iopub.status.busy": "2023-08-21T14:25:55.865223Z",
     "iopub.status.idle": "2023-08-21T14:32:40.551897Z",
     "shell.execute_reply": "2023-08-21T14:32:40.550338Z"
    },
    "papermill": {
     "duration": 404.696471,
     "end_time": "2023-08-21T14:32:40.554629",
     "exception": false,
     "start_time": "2023-08-21T14:25:55.858158",
     "status": "completed"
    },
    "tags": []
   },
   "outputs": [
    {
     "name": "stdout",
     "output_type": "stream",
     "text": [
      "BEGIN TRAINING...\n",
      "EPOCH  1\n"
     ]
    },
    {
     "name": "stderr",
     "output_type": "stream",
     "text": [
      "100%|██████████| 945/945 [00:34<00:00, 27.51it/s]\n"
     ]
    },
    {
     "name": "stdout",
     "output_type": "stream",
     "text": [
      "Running Average TRAIN Loss :  138.73560334059297\n",
      "Running Average TRAIN F1-Score :  0.09562447302082859\n",
      "Running Average VAL Loss :  136.31202999274888\n",
      "Running Average VAL F1-Score :  0.11935236974212224\n",
      "\n",
      "\n",
      "EPOCH  2\n"
     ]
    },
    {
     "name": "stderr",
     "output_type": "stream",
     "text": [
      "100%|██████████| 945/945 [00:34<00:00, 27.32it/s]\n"
     ]
    },
    {
     "name": "stdout",
     "output_type": "stream",
     "text": [
      "Running Average TRAIN Loss :  136.68937836500703\n",
      "Running Average TRAIN F1-Score :  0.1249931320784584\n",
      "Running Average VAL Loss :  135.58035305731312\n",
      "Running Average VAL F1-Score :  0.13357480575224598\n",
      "\n",
      "\n",
      "EPOCH  3\n"
     ]
    },
    {
     "name": "stderr",
     "output_type": "stream",
     "text": [
      "100%|██████████| 945/945 [00:35<00:00, 26.80it/s]\n"
     ]
    },
    {
     "name": "stdout",
     "output_type": "stream",
     "text": [
      "Running Average TRAIN Loss :  136.11658401085586\n",
      "Running Average TRAIN F1-Score :  0.13239584564374238\n",
      "Running Average VAL Loss :  135.13076435020585\n",
      "Running Average VAL F1-Score :  0.13498512209354047\n",
      "\n",
      "\n",
      "EPOCH  4\n"
     ]
    },
    {
     "name": "stderr",
     "output_type": "stream",
     "text": [
      "100%|██████████| 945/945 [00:34<00:00, 27.41it/s]\n"
     ]
    },
    {
     "name": "stdout",
     "output_type": "stream",
     "text": [
      "Running Average TRAIN Loss :  135.80968498754754\n",
      "Running Average TRAIN F1-Score :  0.1370993725048802\n",
      "Running Average VAL Loss :  134.759537611179\n",
      "Running Average VAL F1-Score :  0.1394403500560515\n",
      "\n",
      "\n",
      "EPOCH  5\n"
     ]
    },
    {
     "name": "stderr",
     "output_type": "stream",
     "text": [
      "100%|██████████| 945/945 [00:35<00:00, 26.88it/s]\n"
     ]
    },
    {
     "name": "stdout",
     "output_type": "stream",
     "text": [
      "Running Average TRAIN Loss :  135.4824173942445\n",
      "Running Average TRAIN F1-Score :  0.14017447997180243\n",
      "Running Average VAL Loss :  134.56811432067505\n",
      "Running Average VAL F1-Score :  0.14305335550964948\n",
      "\n",
      "\n",
      "EPOCH  6\n"
     ]
    },
    {
     "name": "stderr",
     "output_type": "stream",
     "text": [
      "100%|██████████| 945/945 [00:34<00:00, 27.29it/s]\n"
     ]
    },
    {
     "name": "stdout",
     "output_type": "stream",
     "text": [
      "Running Average TRAIN Loss :  135.32419863907748\n",
      "Running Average TRAIN F1-Score :  0.1423543733500299\n",
      "Running Average VAL Loss :  134.8114454075248\n",
      "Running Average VAL F1-Score :  0.14398281766982848\n",
      "\n",
      "\n",
      "EPOCH  7\n"
     ]
    },
    {
     "name": "stderr",
     "output_type": "stream",
     "text": [
      "100%|██████████| 945/945 [00:35<00:00, 26.62it/s]\n"
     ]
    },
    {
     "name": "stdout",
     "output_type": "stream",
     "text": [
      "Running Average TRAIN Loss :  135.11256239149304\n",
      "Running Average TRAIN F1-Score :  0.14462194758905936\n",
      "Running Average VAL Loss :  134.4607079785741\n",
      "Running Average VAL F1-Score :  0.14603233605087873\n",
      "\n",
      "\n",
      "EPOCH  8\n"
     ]
    },
    {
     "name": "stderr",
     "output_type": "stream",
     "text": [
      "100%|██████████| 945/945 [00:33<00:00, 27.83it/s]\n"
     ]
    },
    {
     "name": "stdout",
     "output_type": "stream",
     "text": [
      "Running Average TRAIN Loss :  134.97337783732743\n",
      "Running Average TRAIN F1-Score :  0.14616659615563338\n",
      "Running Average VAL Loss :  134.25796938228035\n",
      "Running Average VAL F1-Score :  0.14788800915201267\n",
      "\n",
      "\n",
      "EPOCH  9\n"
     ]
    },
    {
     "name": "stderr",
     "output_type": "stream",
     "text": [
      "100%|██████████| 945/945 [00:35<00:00, 26.83it/s]\n"
     ]
    },
    {
     "name": "stdout",
     "output_type": "stream",
     "text": [
      "Running Average TRAIN Loss :  134.99162429728835\n",
      "Running Average TRAIN F1-Score :  0.14592704989765057\n",
      "Running Average VAL Loss :  134.5065661675916\n",
      "Running Average VAL F1-Score :  0.14492458627074065\n",
      "\n",
      "\n",
      "EPOCH  10\n"
     ]
    },
    {
     "name": "stderr",
     "output_type": "stream",
     "text": [
      "100%|██████████| 945/945 [00:35<00:00, 26.75it/s]\n"
     ]
    },
    {
     "name": "stdout",
     "output_type": "stream",
     "text": [
      "Running Average TRAIN Loss :  134.85964472533533\n",
      "Running Average TRAIN F1-Score :  0.1476956593059989\n",
      "Running Average VAL Loss :  134.4508008214528\n",
      "Running Average VAL F1-Score :  0.14560705789191994\n",
      "\n",
      "\n",
      "TRAINING FINISHED\n",
      "FINAL TRAINING SCORE :  0.1476956593059989\n",
      "FINAL VALIDATION SCORE :  0.14560705789191994\n"
     ]
    }
   ],
   "source": [
    "protbert_model, protbert_losses, protbert_scores = train_model(embeddings_source=\"ProtBERT\",model_type=\"linear\")"
   ]
  },
  {
   "cell_type": "code",
   "execution_count": 13,
   "id": "9944c0a6",
   "metadata": {
    "execution": {
     "iopub.execute_input": "2023-08-21T14:32:40.929907Z",
     "iopub.status.busy": "2023-08-21T14:32:40.929576Z",
     "iopub.status.idle": "2023-08-21T14:32:41.379971Z",
     "shell.execute_reply": "2023-08-21T14:32:41.378543Z"
    },
    "papermill": {
     "duration": 0.637047,
     "end_time": "2023-08-21T14:32:41.382473",
     "exception": false,
     "start_time": "2023-08-21T14:32:40.745426",
     "status": "completed"
    },
    "tags": []
   },
   "outputs": [
    {
     "data": {
      "image/png": "[encoded data removed]",
      "text/plain": [
       "<Figure size 1000x400 with 1 Axes>"
      ]
     },
     "metadata": {},
     "output_type": "display_data"
    },
    {
     "data": {
      "image/png": "[encoded data removed]",
      "text/plain": [
       "<Figure size 1000x400 with 1 Axes>"
      ]
     },
     "metadata": {},
     "output_type": "display_data"
    }
   ],
   "source": [
    "plt.figure(figsize = (10, 4))\n",
    "#plt.plot(ems2_losses[\"val\"], label = \"EMS2\")\n",
    "#plt.plot(t5_losses[\"val\"], label = \"T5\")\n",
    "plt.plot(protbert_losses[\"val\"], label = \"EMS2\") \n",
    "plt.title(\"Validation Losses for # Vector Embeddings\")\n",
    "plt.xlabel(\"Epochs\")\n",
    "plt.ylabel(\"Average Loss\")\n",
    "plt.legend()\n",
    "plt.show()\n",
    "\n",
    "plt.figure(figsize = (10, 4))\n",
    "#plt.plot(ems2_scores[\"val\"], label = \"EMS2\")\n",
    "#plt.plot(t5_scores[\"val\"], label = \"T5\")\n",
    "plt.plot(protbert_scores[\"val\"], label = \"EMS2\")\n",
    "plt.title(\"Validation F1-Scores for # Vector Embeddings\")\n",
    "plt.xlabel(\"Epochs\")\n",
    "plt.ylabel(\"Average F1-Score\")\n",
    "plt.legend()\n",
    "plt.show()"
   ]
  },
  {
   "cell_type": "markdown",
   "id": "94c939f3",
   "metadata": {
    "papermill": {
     "duration": 0.185149,
     "end_time": "2023-08-21T14:32:41.753084",
     "exception": false,
     "start_time": "2023-08-21T14:32:41.567935",
     "status": "completed"
    },
    "tags": []
   },
   "source": [
    "## PREDICTION"
   ]
  },
  {
   "cell_type": "code",
   "execution_count": 14,
   "id": "bcadb6f3",
   "metadata": {
    "execution": {
     "iopub.execute_input": "2023-08-21T14:32:42.121010Z",
     "iopub.status.busy": "2023-08-21T14:32:42.120566Z",
     "iopub.status.idle": "2023-08-21T14:32:42.132409Z",
     "shell.execute_reply": "2023-08-21T14:32:42.131038Z"
    },
    "papermill": {
     "duration": 0.197439,
     "end_time": "2023-08-21T14:32:42.134758",
     "exception": false,
     "start_time": "2023-08-21T14:32:41.937319",
     "status": "completed"
    },
    "tags": []
   },
   "outputs": [],
   "source": [
    "def predict(embeddings_source):\n",
    "    \n",
    "    test_dataset = ProteinSequenceDataset(datatype=\"test\", embeddings_source = embeddings_source)\n",
    "    test_dataloader = torch.utils.data.DataLoader(test_dataset, batch_size=1, shuffle=False)\n",
    "    \n",
    "    if embeddings_source == \"T5\":\n",
    "        model = t5_model\n",
    "    if embeddings_source == \"ProtBERT\":\n",
    "        model = protbert_model\n",
    "    if embeddings_source == \"EMS2\":\n",
    "        model = ems2_model\n",
    "        \n",
    "    model.eval()\n",
    "    \n",
    "    labels = pd.read_csv(config.train_labels_path, sep = \"\\t\")\n",
    "    top_terms = labels.groupby(\"term\")[\"EntryID\"].count().sort_values(ascending=False)\n",
    "    labels_names = top_terms[:config.num_labels].index.values\n",
    "    print(\"GENERATE PREDICTION FOR TEST SET...\")\n",
    "\n",
    "    ids_ = np.empty(shape=(len(test_dataloader)*config.num_labels,), dtype=object)\n",
    "    go_terms_ = np.empty(shape=(len(test_dataloader)*config.num_labels,), dtype=object)\n",
    "    confs_ = np.empty(shape=(len(test_dataloader)*config.num_labels,), dtype=np.float32)\n",
    "\n",
    "    for i, (embed, id) in tqdm(enumerate(test_dataloader)):\n",
    "        embed = embed.to(config.device)\n",
    "        confs_[i*config.num_labels:(i+1)*config.num_labels] = torch.nn.functional.sigmoid(model(embed)).squeeze().detach().cpu().numpy()\n",
    "        ids_[i*config.num_labels:(i+1)*config.num_labels] = id[0]\n",
    "        go_terms_[i*config.num_labels:(i+1)*config.num_labels] = labels_names\n",
    "\n",
    "    submission_df = pd.DataFrame(data={\"Id\" : ids_, \"GO term\" : go_terms_, \"Confidence\" : confs_})\n",
    "    print(\"PREDICTIONS DONE\")\n",
    "    return submission_df"
   ]
  },
  {
   "cell_type": "code",
   "execution_count": 15,
   "id": "a19503f3",
   "metadata": {
    "execution": {
     "iopub.execute_input": "2023-08-21T14:32:42.558947Z",
     "iopub.status.busy": "2023-08-21T14:32:42.557795Z",
     "iopub.status.idle": "2023-08-21T14:34:19.620147Z",
     "shell.execute_reply": "2023-08-21T14:34:19.618685Z"
    },
    "papermill": {
     "duration": 97.305543,
     "end_time": "2023-08-21T14:34:19.622702",
     "exception": false,
     "start_time": "2023-08-21T14:32:42.317159",
     "status": "completed"
    },
    "tags": []
   },
   "outputs": [
    {
     "name": "stdout",
     "output_type": "stream",
     "text": [
      "GENERATE PREDICTION FOR TEST SET...\n"
     ]
    },
    {
     "name": "stderr",
     "output_type": "stream",
     "text": [
      "141865it [01:23, 1690.01it/s]\n"
     ]
    },
    {
     "name": "stdout",
     "output_type": "stream",
     "text": [
      "PREDICTIONS DONE\n"
     ]
    }
   ],
   "source": [
    "submission_df = predict(\"ProtBERT\")"
   ]
  },
  {
   "cell_type": "code",
   "execution_count": 16,
   "id": "d3e0e81f",
   "metadata": {
    "execution": {
     "iopub.execute_input": "2023-08-21T14:34:20.084315Z",
     "iopub.status.busy": "2023-08-21T14:34:20.083908Z",
     "iopub.status.idle": "2023-08-21T14:34:20.092717Z",
     "shell.execute_reply": "2023-08-21T14:34:20.090782Z"
    },
    "papermill": {
     "duration": 0.244494,
     "end_time": "2023-08-21T14:34:20.095858",
     "exception": false,
     "start_time": "2023-08-21T14:34:19.851364",
     "status": "completed"
    },
    "tags": []
   },
   "outputs": [
    {
     "data": {
      "text/plain": [
       "70932500"
      ]
     },
     "execution_count": 16,
     "metadata": {},
     "output_type": "execute_result"
    }
   ],
   "source": [
    "len(submission_df)"
   ]
  },
  {
   "cell_type": "markdown",
   "id": "3575d4f3",
   "metadata": {
    "papermill": {
     "duration": 0.232161,
     "end_time": "2023-08-21T14:34:20.562057",
     "exception": false,
     "start_time": "2023-08-21T14:34:20.329896",
     "status": "completed"
    },
    "tags": []
   },
   "source": [
    "<h4> SUBMISSION</h4>\n"
   ]
  },
  {
   "cell_type": "code",
   "execution_count": 17,
   "id": "437d0406",
   "metadata": {
    "execution": {
     "iopub.execute_input": "2023-08-21T14:34:21.089829Z",
     "iopub.status.busy": "2023-08-21T14:34:21.089232Z",
     "iopub.status.idle": "2023-08-21T14:36:33.771496Z",
     "shell.execute_reply": "2023-08-21T14:36:33.770820Z"
    },
    "papermill": {
     "duration": 132.919884,
     "end_time": "2023-08-21T14:36:33.773762",
     "exception": false,
     "start_time": "2023-08-21T14:34:20.853878",
     "status": "completed"
    },
    "tags": []
   },
   "outputs": [],
   "source": [
    "submission_df.to_csv('submission.tsv', sep='\\t', header=False, index=False)"
   ]
  },
  {
   "cell_type": "code",
   "execution_count": 18,
   "id": "ce4efdbf",
   "metadata": {
    "execution": {
     "iopub.execute_input": "2023-08-21T14:36:34.236616Z",
     "iopub.status.busy": "2023-08-21T14:36:34.236245Z",
     "iopub.status.idle": "2023-08-21T14:36:40.123466Z",
     "shell.execute_reply": "2023-08-21T14:36:40.121893Z"
    },
    "papermill": {
     "duration": 6.121668,
     "end_time": "2023-08-21T14:36:40.126111",
     "exception": false,
     "start_time": "2023-08-21T14:36:34.004443",
     "status": "completed"
    },
    "tags": []
   },
   "outputs": [],
   "source": [
    "#this submission was obtained by training models on BlastP, Sprof, QuickGo and DeeepGoZero offline\n",
    "submission2 = pd.read_csv('/kaggle/input/blast-quick-sprof-zero-pred/submission.tsv',\n",
    "    sep='\\t', header=None, names=['Id2', 'GO term2', 'Confidence2']) "
   ]
  },
  {
   "cell_type": "code",
   "execution_count": 19,
   "id": "7d226fb8",
   "metadata": {
    "execution": {
     "iopub.execute_input": "2023-08-21T14:36:40.590563Z",
     "iopub.status.busy": "2023-08-21T14:36:40.590210Z",
     "iopub.status.idle": "2023-08-21T14:37:22.500137Z",
     "shell.execute_reply": "2023-08-21T14:37:22.499009Z"
    },
    "papermill": {
     "duration": 42.144909,
     "end_time": "2023-08-21T14:37:22.502361",
     "exception": false,
     "start_time": "2023-08-21T14:36:40.357452",
     "status": "completed"
    },
    "tags": []
   },
   "outputs": [],
   "source": [
    "subs = submission2.merge(submission_df, left_on=['Id2', 'GO term2'], \n",
    "                                                  right_on=['Id', 'GO term'], how='outer')"
   ]
  },
  {
   "cell_type": "code",
   "execution_count": 20,
   "id": "5011a525",
   "metadata": {
    "execution": {
     "iopub.execute_input": "2023-08-21T14:37:22.980482Z",
     "iopub.status.busy": "2023-08-21T14:37:22.979491Z",
     "iopub.status.idle": "2023-08-21T14:38:16.955594Z",
     "shell.execute_reply": "2023-08-21T14:38:16.953152Z"
    },
    "papermill": {
     "duration": 54.218221,
     "end_time": "2023-08-21T14:38:16.960954",
     "exception": false,
     "start_time": "2023-08-21T14:37:22.742733",
     "status": "completed"
    },
    "tags": []
   },
   "outputs": [],
   "source": [
    "submission3 = pd.read_csv('/kaggle/input/cafa2008/submission.tsv',\n",
    "    sep='\\t', header=None, names=['Id2', 'GO term2', 'Confidence2']) \n",
    "subs = submission3.merge(submission_df, left_on=['Id2', 'GO term2'], \n",
    "                                                  right_on=['Id', 'GO term'], how='outer')"
   ]
  },
  {
   "cell_type": "code",
   "execution_count": 21,
   "id": "164e39f6",
   "metadata": {
    "execution": {
     "iopub.execute_input": "2023-08-21T14:38:17.532235Z",
     "iopub.status.busy": "2023-08-21T14:38:17.531847Z",
     "iopub.status.idle": "2023-08-21T14:51:17.795363Z",
     "shell.execute_reply": "2023-08-21T14:51:17.793854Z"
    },
    "papermill": {
     "duration": 780.500919,
     "end_time": "2023-08-21T14:51:17.798477",
     "exception": false,
     "start_time": "2023-08-21T14:38:17.297558",
     "status": "completed"
    },
    "tags": []
   },
   "outputs": [],
   "source": [
    "subs.drop(['Id', 'GO term'], axis=1, inplace=True)\n",
    "subs['confidence_combined'] = subs.apply(lambda row: row['Confidence2'] if not np.isnan(row['Confidence2']) else row['Confidence'], axis=1)"
   ]
  },
  {
   "cell_type": "code",
   "execution_count": 22,
   "id": "a92f8781",
   "metadata": {
    "execution": {
     "iopub.execute_input": "2023-08-21T14:51:18.287625Z",
     "iopub.status.busy": "2023-08-21T14:51:18.287275Z",
     "iopub.status.idle": "2023-08-21T14:53:45.213428Z",
     "shell.execute_reply": "2023-08-21T14:53:45.212229Z"
    },
    "papermill": {
     "duration": 147.175252,
     "end_time": "2023-08-21T14:53:45.216204",
     "exception": false,
     "start_time": "2023-08-21T14:51:18.040952",
     "status": "completed"
    },
    "tags": []
   },
   "outputs": [],
   "source": [
    "subs[['Id2', 'GO term2', 'confidence_combined']].to_csv('submission.tsv', sep='\\t', header=False, index=False)"
   ]
  },
  {
   "cell_type": "code",
   "execution_count": null,
   "id": "bc1475ac",
   "metadata": {
    "papermill": {
     "duration": 0.23763,
     "end_time": "2023-08-21T14:53:45.690469",
     "exception": false,
     "start_time": "2023-08-21T14:53:45.452839",
     "status": "completed"
    },
    "tags": []
   },
   "outputs": [],
   "source": []
  },
  {
   "cell_type": "code",
   "execution_count": 23,
   "id": "5b4d9162",
   "metadata": {
    "execution": {
     "iopub.execute_input": "2023-08-21T14:53:46.229593Z",
     "iopub.status.busy": "2023-08-21T14:53:46.229234Z",
     "iopub.status.idle": "2023-08-21T14:53:46.234808Z",
     "shell.execute_reply": "2023-08-21T14:53:46.233316Z"
    },
    "papermill": {
     "duration": 0.312937,
     "end_time": "2023-08-21T14:53:46.237455",
     "exception": false,
     "start_time": "2023-08-21T14:53:45.924518",
     "status": "completed"
    },
    "tags": []
   },
   "outputs": [],
   "source": [
    "# submission = pd.read_csv('/kaggle/input/cafa51208/submission.tsv',\n",
    "#     sep='\\t', header=None)\n",
    "\n",
    "# submission.to_csv('submission.tsv',sep='\\t', header=False, index=False)"
   ]
  }
 ],
 "metadata": {
  "kernelspec": {
   "display_name": "Python 3",
   "language": "python",
   "name": "python3"
  },
  "language_info": {
   "codemirror_mode": {
    "name": "ipython",
    "version": 3
   },
   "file_extension": ".py",
   "mimetype": "text/x-python",
   "name": "python",
   "nbconvert_exporter": "python",
   "pygments_lexer": "ipython3",
   "version": "3.10.12"
  },
  "papermill": {
   "default_parameters": {},
   "duration": 1700.103349,
   "end_time": "2023-08-21T14:53:49.099056",
   "environment_variables": {},
   "exception": null,
   "input_path": "__notebook__.ipynb",
   "output_path": "__notebook__.ipynb",
   "parameters": {},
   "start_time": "2023-08-21T14:25:28.995707",
   "version": "2.4.0"
  }
 },
 "nbformat": 4,
 "nbformat_minor": 5
}
